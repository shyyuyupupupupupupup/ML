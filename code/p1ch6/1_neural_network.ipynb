{
 "cells": [
  {
   "cell_type": "code",
   "id": "initial_id",
   "metadata": {
    "collapsed": true,
    "ExecuteTime": {
     "end_time": "2024-05-27T15:52:37.302819Z",
     "start_time": "2024-05-27T15:52:34.055671Z"
    }
   },
   "source": [
    "import torch\n",
    "import torch.nn as nn\n",
    "from torch import optim\n",
    "torch.set_printoptions(edgeitems=2, linewidth=75)"
   ],
   "outputs": [],
   "execution_count": 1
  },
  {
   "metadata": {
    "ExecuteTime": {
     "end_time": "2024-05-27T14:26:48.483198Z",
     "start_time": "2024-05-27T14:26:48.451938Z"
    }
   },
   "cell_type": "code",
   "source": [
    "t_c = torch.tensor([0.5, 14.0, 15.0, 28.0, 11.0, \n",
    "                    8.0, 3.0, -4.0, 6.0, 13.0, 21.0])\n",
    "t_u = torch.tensor([35.7, 55.9, 58.2, 81.9, 56.3, \n",
    "                    48.9, 33.9, 21.8, 48.4, 60.4, 68.4])\n",
    "t_u = t_u.unsqueeze(1)\n",
    "t_c = t_c.unsqueeze(1)\n",
    "n_samples = t_u.shape[0]\n",
    "n_val = int(0.2 * n_samples)\n",
    "\n",
    "shuffled_indices = torch.randperm(n_samples)\n",
    "\n",
    "train_indices = shuffled_indices[:-n_val]\n",
    "val_indices = shuffled_indices[-n_val:]\n",
    "\n",
    "t_u_train = t_u[train_indices]\n",
    "t_c_train = t_c[train_indices]\n",
    "\n",
    "t_u_val = t_u[val_indices]\n",
    "t_c_val = t_c[val_indices]\n",
    "\n",
    "t_un_train = 0.1 * t_u_train\n",
    "t_un_val = 0.1 * t_u_val\n",
    "t_u.shape"
   ],
   "id": "9343114a9c2f3c38",
   "outputs": [
    {
     "data": {
      "text/plain": [
       "torch.Size([11, 1])"
      ]
     },
     "execution_count": 3,
     "metadata": {},
     "output_type": "execute_result"
    }
   ],
   "execution_count": 3
  },
  {
   "metadata": {
    "ExecuteTime": {
     "end_time": "2024-05-27T14:26:49.182646Z",
     "start_time": "2024-05-27T14:26:48.483198Z"
    }
   },
   "cell_type": "code",
   "source": [
    "linear_model = nn.Linear(1, 1)\n",
    "optimizer = optim.SGD(linear_model.parameters(), lr=1e-3)\n",
    "linear_model.parameters()"
   ],
   "id": "27ab8148746dc3fd",
   "outputs": [
    {
     "data": {
      "text/plain": [
       "<generator object Module.parameters at 0x000001869957A5E0>"
      ]
     },
     "execution_count": 4,
     "metadata": {},
     "output_type": "execute_result"
    }
   ],
   "execution_count": 4
  },
  {
   "metadata": {
    "ExecuteTime": {
     "end_time": "2024-05-27T14:26:49.186633Z",
     "start_time": "2024-05-27T14:26:49.182646Z"
    }
   },
   "cell_type": "code",
   "source": [
    "def training_loop(n_epochs, optimizer, linear_model, loss_fn, t_u_train, t_u_val, tc_train, tc_val):\n",
    "    for epoch in range(n_epochs + 1):\n",
    "        t_p_train = linear_model(t_u_train)\n",
    "        loss_train = loss_fn(t_p_train, tc_train)\n",
    "        \n",
    "        t_p_val = linear_model(t_u_val)\n",
    "        loss_val = loss_fn(t_p_val, tc_val)\n",
    "        \n",
    "        optimizer.zero_grad()\n",
    "        loss_val.backward()\n",
    "        optimizer.step()\n",
    "        \n",
    "        if epoch % 1000 == 0:\n",
    "            print(f\"Epoch {epoch}, Training loss {loss_train.item():.4f},\"\n",
    " f\" Validation loss {loss_val.item():.4f}\") \n",
    "            "
   ],
   "id": "31e47941e58e10ec",
   "outputs": [],
   "execution_count": 5
  },
  {
   "metadata": {
    "ExecuteTime": {
     "end_time": "2024-05-27T14:26:49.703642Z",
     "start_time": "2024-05-27T14:26:49.186633Z"
    }
   },
   "cell_type": "code",
   "source": [
    "training_loop(\n",
    "    n_epochs = 3000,\n",
    "    optimizer = optim.SGD(linear_model.parameters(), lr=1e-2),\n",
    "    linear_model = nn.Linear(1, 1),\n",
    "    loss_fn = nn.MSELoss(),\n",
    "    t_u_train = t_u_train,\n",
    "    t_u_val = t_u_val,\n",
    "    tc_train = t_c_train,\n",
    "    tc_val = t_c_val,\n",
    ")\n",
    "\n",
    "print(linear_model.weight, linear_model.bias)"
   ],
   "id": "9610b2d8bb9c9bc6",
   "outputs": [
    {
     "name": "stdout",
     "output_type": "stream",
     "text": [
      "Epoch 0, Training loss 287.6329, Validation loss 778.6940\n",
      "Epoch 1000, Training loss 287.6329, Validation loss 778.6940\n",
      "Epoch 2000, Training loss 287.6329, Validation loss 778.6940\n",
      "Epoch 3000, Training loss 287.6329, Validation loss 778.6940\n",
      "Parameter containing:\n",
      "tensor([[0.0507]], requires_grad=True) Parameter containing:\n",
      "tensor([0.2746], requires_grad=True)\n"
     ]
    }
   ],
   "execution_count": 6
  }
 ],
 "metadata": {
  "kernelspec": {
   "display_name": "Python 3",
   "language": "python",
   "name": "python3"
  },
  "language_info": {
   "codemirror_mode": {
    "name": "ipython",
    "version": 2
   },
   "file_extension": ".py",
   "mimetype": "text/x-python",
   "name": "python",
   "nbconvert_exporter": "python",
   "pygments_lexer": "ipython2",
   "version": "2.7.6"
  }
 },
 "nbformat": 4,
 "nbformat_minor": 5
}
