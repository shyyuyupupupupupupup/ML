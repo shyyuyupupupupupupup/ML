{
 "cells": [
  {
   "cell_type": "code",
   "id": "initial_id",
   "metadata": {
    "collapsed": true,
    "ExecuteTime": {
     "end_time": "2024-05-23T07:46:55.166999Z",
     "start_time": "2024-05-23T07:46:55.165019Z"
    }
   },
   "source": [
    "import torch\n",
    "import torch.optim as optim\n",
    "torch.set_printoptions(edgeitems=2, linewidth=75)"
   ],
   "execution_count": 3,
   "outputs": []
  },
  {
   "metadata": {
    "ExecuteTime": {
     "end_time": "2024-05-23T07:46:55.178517Z",
     "start_time": "2024-05-23T07:46:55.175001Z"
    }
   },
   "cell_type": "code",
   "source": [
    "t_c = torch.tensor([0.5, 14.0, 15.0, 28.0, 11.0, \n",
    "                    8.0, 3.0, -4.0, 6.0, 13.0, 21.0])\n",
    "t_u = torch.tensor([35.7, 55.9, 58.2, 81.9, 56.3, \n",
    "                    48.9, 33.9, 21.8, 48.4, 60.4, 68.4])\n",
    "t_un = 0.1 * t_u"
   ],
   "id": "184242709f64d91c",
   "execution_count": 4,
   "outputs": []
  },
  {
   "metadata": {
    "ExecuteTime": {
     "end_time": "2024-05-23T07:46:55.180974Z",
     "start_time": "2024-05-23T07:46:55.178517Z"
    }
   },
   "cell_type": "code",
   "source": [
    "def model(t_u, w, b):\n",
    "    return w * t_u + b"
   ],
   "id": "c7dbe3bfc4b8faa8",
   "execution_count": 5,
   "outputs": []
  },
  {
   "metadata": {
    "ExecuteTime": {
     "end_time": "2024-05-23T07:46:55.183572Z",
     "start_time": "2024-05-23T07:46:55.180974Z"
    }
   },
   "cell_type": "code",
   "source": [
    "def loss_fn(t_p, t_c):\n",
    "    squared_diffs = (t_p - t_c)**2\n",
    "    return squared_diffs.mean()"
   ],
   "id": "3325108e6d4c9cd0",
   "execution_count": 6,
   "outputs": []
  },
  {
   "metadata": {
    "ExecuteTime": {
     "end_time": "2024-05-23T07:46:55.202061Z",
     "start_time": "2024-05-23T07:46:55.198574Z"
    }
   },
   "cell_type": "code",
   "source": [
    "params = torch.tensor([1.0 , 0.0], requires_grad=True)\n",
    "print(params.shape)\n",
    "learning_rate = 1e-5\n",
    "optimizer = optim.SGD([params], lr=learning_rate)"
   ],
   "id": "18acbe36f7c8fec5",
   "execution_count": 7,
   "outputs": []
  },
  {
   "metadata": {
    "ExecuteTime": {
     "end_time": "2024-05-23T07:46:55.251347Z",
     "start_time": "2024-05-23T07:46:55.202061Z"
    }
   },
   "cell_type": "code",
   "source": [
    "t_p = model(t_u, params[0], params[1])\n",
    "loss = loss_fn(t_p, t_c)\n",
    "loss.backward()\n",
    "optimizer.step()\n",
    "params"
   ],
   "id": "3766fbb34a9a25de",
   "execution_count": 8,
   "outputs": []
  },
  {
   "metadata": {
    "ExecuteTime": {
     "end_time": "2024-05-23T07:46:55.254266Z",
     "start_time": "2024-05-23T07:46:55.251347Z"
    }
   },
   "cell_type": "code",
   "source": [
    "def train(n_epochs, optimizer, t_u, t_c):\n",
    "    for epoch in range(1, n_epochs + 1):\n",
    "        t_p = model(t_u, params[0], params[1])\n",
    "        loss = loss_fn(t_p, t_c)\n",
    "        \n",
    "        optimizer.zero_grad()\n",
    "        loss.backward()\n",
    "        optimizer.step()\n",
    "        if epoch % 500 == 0:\n",
    "            print('Epoch: {}, Loss: {}'.format(epoch, loss.item()))\n",
    "    return params"
   ],
   "id": "6539153130350c5",
   "execution_count": 9,
   "outputs": []
  },
  {
   "metadata": {
    "ExecuteTime": {
     "end_time": "2024-05-23T07:46:58.878750Z",
     "start_time": "2024-05-23T07:46:57.782918Z"
    }
   },
   "cell_type": "code",
   "source": [
    "params = torch.tensor([1.0 , 0.0], requires_grad=True)\n",
    "learning_rate = 1e-2\n",
    "optimizer = optim.Adam([params], lr=learning_rate)\n",
    "train(n_epochs=5000, optimizer=optimizer, t_u=t_un, t_c=t_c)"
   ],
   "id": "81d0ee837ec2aa99",
   "execution_count": 10,
   "outputs": []
  },
  {
   "metadata": {
    "ExecuteTime": {
     "end_time": "2024-05-23T08:24:53.288375Z",
     "start_time": "2024-05-23T08:24:53.284722Z"
    }
   },
   "cell_type": "code",
   "source": [
    "# 分割数据集\n",
    "print(t_u.shape)\n",
    "n_samples = t_u.shape[0]\n",
    "n_val = int(n_samples * 0.2)\n",
    "print(n_val)\n",
    "shuffled_idx = torch.randperm(n_samples)\n",
    "print(shuffled_idx)\n",
    "train_idx = shuffled_idx[:-n_val]\n",
    "val_idx = shuffled_idx[-n_val:]\n",
    "print(train_idx, val_idx)"
   ],
   "id": "cb860b461cd2cec2",
   "execution_count": 18,
   "outputs": []
  },
  {
   "metadata": {
    "ExecuteTime": {
     "end_time": "2024-05-23T08:26:30.798219Z",
     "start_time": "2024-05-23T08:26:30.793437Z"
    }
   },
   "cell_type": "code",
   "source": [
    "train_t_u = t_u[train_idx]\n",
    "train_t_c = t_c[train_idx]\n",
    "\n",
    "val_t_u = t_u[val_idx]\n",
    "val_t_c = t_c[val_idx]\n",
    "\n",
    "train_t_un = 0.1 * train_t_u\n",
    "val_t_un = 0.1 * val_t_u"
   ],
   "id": "6797f4a789111011",
   "execution_count": 19,
   "outputs": []
  },
  {
   "metadata": {
    "ExecuteTime": {
     "end_time": "2024-05-23T08:30:09.605005Z",
     "start_time": "2024-05-23T08:30:09.601653Z"
    }
   },
   "cell_type": "code",
   "source": [
    "def training_loop(n_epochs, optimizer, params, train_t_u, val_t_u, train_t_c, val_t_c):\n",
    "    for epoch in range(1, n_epochs + 1):\n",
    "        train_t_p = model(train_t_u, params[0], params[1])\n",
    "        loss = loss_fn(train_t_p, train_t_c)\n",
    "        \n",
    "        val_t_p = model(val_t_u, params[0], params[1])\n",
    "        loss = loss_fn(val_t_p, val_t_c)\n",
    "        \n",
    "        optimizer.zero_grad()\n",
    "        loss.backward()\n",
    "        optimizer.step()\n",
    "        \n",
    "        if epoch % 500 == 0 or epoch <= 3:\n",
    "            print('Epoch: {}, Loss: {}'.format(epoch, loss.item()))\n",
    "            \n",
    "    return params\n"
   ],
   "id": "af1b8f4e69c211b2",
   "execution_count": 20,
   "outputs": []
  },
  {
   "metadata": {
    "ExecuteTime": {
     "end_time": "2024-05-23T08:31:39.059746Z",
     "start_time": "2024-05-23T08:31:38.132213Z"
    }
   },
   "cell_type": "code",
   "source": [
    "params = torch.tensor([1.0 , 0.0], requires_grad=True)\n",
    "learning_rate = 1e-2\n",
    "optimizer = optim.SGD([params], lr=learning_rate)\n",
    "\n",
    "training_loop(\n",
    "    n_epochs=5000,\n",
    "    optimizer=optimizer,\n",
    "    params=params,\n",
    "    train_t_u=train_t_un,\n",
    "    val_t_u=val_t_un,\n",
    "    train_t_c=train_t_c,\n",
    "    val_t_c=val_t_c,\n",
    ")"
   ],
   "id": "1f568553bc02c408",
   "execution_count": 23,
   "outputs": []
  }
 ],
 "metadata": {
  "kernelspec": {
   "display_name": "Python 3",
   "language": "python",
   "name": "python3"
  },
  "language_info": {
   "codemirror_mode": {
    "name": "ipython",
    "version": 2
   },
   "file_extension": ".py",
   "mimetype": "text/x-python",
   "name": "python",
   "nbconvert_exporter": "python",
   "pygments_lexer": "ipython2",
   "version": "2.7.6"
  }
 },
 "nbformat": 4,
 "nbformat_minor": 5
}
