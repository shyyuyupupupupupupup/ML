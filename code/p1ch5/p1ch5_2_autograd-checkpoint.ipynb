{
 "cells": [
  {
   "cell_type": "code",
   "id": "initial_id",
   "metadata": {
    "collapsed": true,
    "ExecuteTime": {
     "end_time": "2024-05-20T09:12:53.940578Z",
     "start_time": "2024-05-20T09:12:53.938249Z"
    }
   },
   "source": [
    "import torch\n",
    "\n",
    "\n",
    "t_c = [0.5, 14.0, 15.0, 28.0, 11.0, 8.0, 3.0, -4.0, 6.0, 13.0, 21.0]\n",
    "t_u = [35.7, 55.9, 58.2, 81.9, 56.3, 48.9, 33.9, 21.8, 48.4, 60.4, 68.4]\n"
   ],
   "execution_count": 7,
   "outputs": []
  },
  {
   "metadata": {
    "ExecuteTime": {
     "end_time": "2024-05-20T09:14:27.721384Z",
     "start_time": "2024-05-20T09:14:27.719079Z"
    }
   },
   "cell_type": "code",
   "source": [
    "def model(t_u, w, b):\n",
    "    return w * t_u + b\n",
    "\n",
    "def loss_fn(t_p, t_c):\n",
    "    squared_diffs = (t_p - t_c) ** 2\n",
    "    return squared_diffs.mean()\n",
    "\n",
    "params = torch.tensor([1.0, 0.0], requires_grad=True)"
   ],
   "id": "c63f59fe7f9e6727",
   "execution_count": 11,
   "outputs": []
  },
  {
   "metadata": {
    "ExecuteTime": {
     "end_time": "2024-05-20T09:12:53.946736Z",
     "start_time": "2024-05-20T09:12:53.943911Z"
    }
   },
   "cell_type": "code",
   "source": "params.grad is None",
   "id": "3f950cadd8ed118",
   "execution_count": 9,
   "outputs": []
  },
  {
   "metadata": {
    "ExecuteTime": {
     "end_time": "2024-05-20T09:14:31.002045Z",
     "start_time": "2024-05-20T09:14:30.989081Z"
    }
   },
   "cell_type": "code",
   "source": [
    "loss = loss_fn(model(t_u, *params), t_c)\n",
    "loss.backward()\n",
    "\n",
    "params.grad"
   ],
   "id": "58b277257a714062",
   "execution_count": 12,
   "outputs": []
  }
 ],
 "metadata": {
  "kernelspec": {
   "display_name": "Python 3",
   "language": "python",
   "name": "python3"
  },
  "language_info": {
   "codemirror_mode": {
    "name": "ipython",
    "version": 2
   },
   "file_extension": ".py",
   "mimetype": "text/x-python",
   "name": "python",
   "nbconvert_exporter": "python",
   "pygments_lexer": "ipython2",
   "version": "2.7.6"
  }
 },
 "nbformat": 4,
 "nbformat_minor": 5
}
