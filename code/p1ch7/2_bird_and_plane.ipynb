{
 "cells": [
  {
   "cell_type": "code",
   "id": "initial_id",
   "metadata": {
    "collapsed": true,
    "ExecuteTime": {
     "end_time": "2024-05-30T04:09:05.871336Z",
     "start_time": "2024-05-30T04:09:01.430079Z"
    }
   },
   "source": [
    "import torch\n",
    "from torch import device\n",
    "from torchvision import datasets, transforms\n",
    "import matplotlib.pyplot as plt\n",
    "device = torch.device(\"cuda:0\" if torch.cuda.is_available() else \"cpu\")"
   ],
   "outputs": [],
   "execution_count": 2
  },
  {
   "metadata": {
    "ExecuteTime": {
     "end_time": "2024-05-30T04:09:06.479052Z",
     "start_time": "2024-05-30T04:09:05.871336Z"
    }
   },
   "cell_type": "code",
   "source": [
    "data_path = r'D:\\Project\\PyProject\\pytorch_example\\code\\data\\p1ch7'\n",
    "cifar10 = datasets.CIFAR10(data_path, train=True, download=False,\n",
    "                        transform=transforms.Compose([\n",
    "        transforms.ToTensor(),\n",
    "        transforms.Normalize((0.4915, 0.4823, 0.4468),\n",
    "                             (0.2470, 0.2435, 0.2616))\n",
    "    ]))\n",
    "cifar10_val = datasets.CIFAR10(data_path, train=False, download=False,\n",
    "                               transform=transforms.Compose([\n",
    "        transforms.ToTensor(),\n",
    "        transforms.Normalize((0.4915, 0.4823, 0.4468),\n",
    "                             (0.2470, 0.2435, 0.2616))\n",
    "    ]))"
   ],
   "id": "4376a3685484f0d0",
   "outputs": [],
   "execution_count": 3
  },
  {
   "metadata": {
    "ExecuteTime": {
     "end_time": "2024-05-30T04:09:11.372601Z",
     "start_time": "2024-05-30T04:09:06.479052Z"
    }
   },
   "cell_type": "code",
   "source": [
    "lable_map = {0: 0, 2: 1}\n",
    "class_names = ['airplane', 'bird']\n",
    "cifar2 = [(img , lable_map[lable]) for img, lable in cifar10 if lable in lable_map]\n",
    "cifar2_val = [(img, lable_map[lable]) for img, lable in cifar10_val if lable in lable_map]"
   ],
   "id": "d1dba0ca0a9c1210",
   "outputs": [],
   "execution_count": 4
  },
  {
   "metadata": {
    "ExecuteTime": {
     "end_time": "2024-05-30T04:09:11.385985Z",
     "start_time": "2024-05-30T04:09:11.373606Z"
    }
   },
   "cell_type": "code",
   "source": [
    "import torch.nn as nn\n",
    "n_out = 2\n",
    "\n",
    "model = nn.Sequential(\n",
    "    nn.Linear(\n",
    "        3072,\n",
    "        512\n",
    "    ),\n",
    "    nn.Tanh(),\n",
    "    nn.Linear(\n",
    "        512,\n",
    "        n_out\n",
    "    )\n",
    ")"
   ],
   "id": "3b9667a42ab87a78",
   "outputs": [],
   "execution_count": 5
  },
  {
   "metadata": {
    "ExecuteTime": {
     "end_time": "2024-05-30T04:09:11.421245Z",
     "start_time": "2024-05-30T04:09:11.385985Z"
    }
   },
   "cell_type": "code",
   "source": [
    "def softmax(x):\n",
    "    return torch.exp(x) / torch.exp(x).sum()\n",
    "x = torch.tensor([[1., 2.], [3., 4.]])\n",
    "y = softmax(x)\n",
    "softmax(x).sum()\n",
    "softmax = nn.Softmax(dim=1)\n",
    "\n",
    "x = torch.tensor([[1., 2.], [3., 4.]])\n",
    "softmax(x)"
   ],
   "id": "5093a9b29de6e945",
   "outputs": [
    {
     "data": {
      "text/plain": [
       "tensor([[0.2689, 0.7311],\n",
       "        [0.2689, 0.7311]])"
      ]
     },
     "execution_count": 6,
     "metadata": {},
     "output_type": "execute_result"
    }
   ],
   "execution_count": 6
  },
  {
   "metadata": {
    "ExecuteTime": {
     "end_time": "2024-05-30T04:09:11.429195Z",
     "start_time": "2024-05-30T04:09:11.421245Z"
    }
   },
   "cell_type": "code",
   "source": [
    "model = nn.Sequential(\n",
    "    nn.Linear(3072, 512),\n",
    "    nn.Tanh(),\n",
    "    nn.Linear(512, n_out),\n",
    "    nn.Softmax(dim=1)\n",
    ")"
   ],
   "id": "6d31063fd65d7f25",
   "outputs": [],
   "execution_count": 7
  },
  {
   "metadata": {
    "ExecuteTime": {
     "end_time": "2024-05-30T04:09:11.554425Z",
     "start_time": "2024-05-30T04:09:11.429195Z"
    }
   },
   "cell_type": "code",
   "source": [
    "img, _ = cifar2[0]\n",
    "print(img.shape)\n",
    "plt.imshow(img.permute(1,2,0))\n",
    "plt.show()"
   ],
   "id": "2d97060917d3f1bf",
   "outputs": [
    {
     "name": "stderr",
     "output_type": "stream",
     "text": [
      "Clipping input data to the valid range for imshow with RGB data ([0..1] for floats or [0..255] for integers).\n"
     ]
    },
    {
     "name": "stdout",
     "output_type": "stream",
     "text": [
      "torch.Size([3, 32, 32])\n"
     ]
    },
    {
     "data": {
      "text/plain": [
       "<Figure size 640x480 with 1 Axes>"
      ],
      "image/png": "[encoded data removed]"
     },
     "metadata": {},
     "output_type": "display_data"
    }
   ],
   "execution_count": 8
  },
  {
   "metadata": {
    "ExecuteTime": {
     "end_time": "2024-05-30T04:09:11.574013Z",
     "start_time": "2024-05-30T04:09:11.554425Z"
    }
   },
   "cell_type": "code",
   "source": [
    "img_batch = img.view(-1).unsqueeze(0)\n",
    "print(img_batch.shape)\n",
    "\n",
    "out = model(img_batch)\n",
    "out"
   ],
   "id": "8f9097948fda285a",
   "outputs": [
    {
     "name": "stdout",
     "output_type": "stream",
     "text": [
      "torch.Size([1, 3072])\n"
     ]
    },
    {
     "data": {
      "text/plain": [
       "tensor([[0.6487, 0.3513]], grad_fn=<SoftmaxBackward0>)"
      ]
     },
     "execution_count": 9,
     "metadata": {},
     "output_type": "execute_result"
    }
   ],
   "execution_count": 9
  },
  {
   "metadata": {
    "ExecuteTime": {
     "end_time": "2024-05-30T04:09:11.581738Z",
     "start_time": "2024-05-30T04:09:11.574013Z"
    }
   },
   "cell_type": "code",
   "source": [
    "_, index = torch.max(out, 1)\n",
    "index"
   ],
   "id": "826311f30a89323a",
   "outputs": [
    {
     "data": {
      "text/plain": [
       "tensor([0])"
      ]
     },
     "execution_count": 10,
     "metadata": {},
     "output_type": "execute_result"
    }
   ],
   "execution_count": 10
  },
  {
   "metadata": {
    "ExecuteTime": {
     "end_time": "2024-05-30T04:09:11.601980Z",
     "start_time": "2024-05-30T04:09:11.582740Z"
    }
   },
   "cell_type": "code",
   "source": [
    "model = nn.Sequential(\n",
    "    nn.Linear(3072, 512),\n",
    "    nn.Tanh(),\n",
    "    nn.Linear(512, n_out),\n",
    "    nn.LogSoftmax(dim=1)\n",
    ")\n",
    "\n",
    "loss_fn = nn.NLLLoss()\n",
    "\n",
    "img_t, lable = cifar2[0]\n",
    "out = model(img_t.view(-1).unsqueeze(0))\n",
    "loss_fn(out, torch.tensor([lable]))"
   ],
   "id": "d208a75335c20be3",
   "outputs": [
    {
     "data": {
      "text/plain": [
       "tensor(0.4935, grad_fn=<NllLossBackward0>)"
      ]
     },
     "execution_count": 11,
     "metadata": {},
     "output_type": "execute_result"
    }
   ],
   "execution_count": 11
  },
  {
   "metadata": {
    "ExecuteTime": {
     "end_time": "2024-05-30T04:09:11.605590Z",
     "start_time": "2024-05-30T04:09:11.602981Z"
    }
   },
   "cell_type": "code",
   "source": [
    "# learn_rate = 1e-2\n",
    "# optimizer = torch.optim.SGD(model.parameters(), lr=learn_rate)\n",
    "# n_epochs = 100\n",
    "# for epoch in range(n_epochs):\n",
    "#     for img, lable in cifar2:\n",
    "#         img = transforms.ToTensor()(img)\n",
    "#         img.cuda()\n",
    "#         out = model(img.view(-1).unsqueeze(0))\n",
    "#         loss = loss_fn(out, torch.tensor([lable]))\n",
    "#         \n",
    "#         optimizer.zero_grad()\n",
    "#         loss.backward()\n",
    "#         optimizer.step()\n",
    "#     \n",
    "#     print(\"Epoch: %d, Loss: %f\" % (epoch, float(loss)))"
   ],
   "id": "5a7ab4fbbceb28ae",
   "outputs": [],
   "execution_count": 12
  },
  {
   "metadata": {
    "ExecuteTime": {
     "end_time": "2024-05-30T04:09:35.485194Z",
     "start_time": "2024-05-30T04:09:11.606592Z"
    }
   },
   "cell_type": "code",
   "source": [
    "train_loader = torch.utils.data.DataLoader(cifar2, batch_size=64, shuffle=True)\n",
    "\n",
    "# model = nn.Sequential(\n",
    "#     nn.Linear(3072, 512),\n",
    "#     nn.Tanh(),\n",
    "#     nn.Linear(512, n_out),\n",
    "#     nn.LogSoftmax(dim=1)\n",
    "# )\n",
    "\n",
    "model = nn.Sequential(\n",
    "    nn.Linear(3072, 1024),\n",
    "    nn.Tanh(),\n",
    "    nn.Linear(1024, 512),\n",
    "    nn.Tanh(),\n",
    "    nn.Linear(512, 128),\n",
    "    nn.Tanh(),\n",
    "    nn.Linear(128, n_out),\n",
    ")\n",
    "model = model.to(device)\n",
    "\n",
    "learning_rate =  1e-2\n",
    "\n",
    "optimizer = torch.optim.Adam(model.parameters(), lr=learning_rate)\n",
    "\n",
    "# loss_fn = nn.NLLLoss()\n",
    "\n",
    "loss_fn = nn.CrossEntropyLoss()\n",
    "\n",
    "n_epochs = 100\n",
    "\n",
    "for epoch in range(n_epochs):\n",
    "    for imgs, lables in train_loader:\n",
    "        # imgs = transforms.ToTensor()(imgs)\n",
    "        imgs = imgs.to(device)\n",
    "        lables = lables.to(device)\n",
    "        batch_size = imgs.shape[0]\n",
    "        outputs = model(imgs.view(batch_size, -1))\n",
    "        loss = loss_fn(outputs, lables)\n",
    "        \n",
    "        optimizer.zero_grad()\n",
    "        loss.backward()\n",
    "        optimizer.step()\n",
    "        \n",
    "    print(\"Epoch: %d, Loss: %f\" % (epoch, float(loss)))"
   ],
   "id": "beba3718a98b9b5e",
   "outputs": [
    {
     "name": "stdout",
     "output_type": "stream",
     "text": [
      "Epoch: 0, Loss: 0.556922\n",
      "Epoch: 1, Loss: 0.839678\n",
      "Epoch: 2, Loss: 0.458897\n",
      "Epoch: 3, Loss: 0.359138\n",
      "Epoch: 4, Loss: 0.350833\n",
      "Epoch: 5, Loss: 0.584086\n",
      "Epoch: 6, Loss: 0.571088\n",
      "Epoch: 7, Loss: 0.398520\n",
      "Epoch: 8, Loss: 0.379349\n",
      "Epoch: 9, Loss: 0.378169\n",
      "Epoch: 10, Loss: 0.504596\n",
      "Epoch: 11, Loss: 0.580246\n",
      "Epoch: 12, Loss: 0.515234\n",
      "Epoch: 13, Loss: 0.393399\n",
      "Epoch: 14, Loss: 0.628006\n",
      "Epoch: 15, Loss: 0.747715\n",
      "Epoch: 16, Loss: 0.422298\n",
      "Epoch: 17, Loss: 0.570519\n",
      "Epoch: 18, Loss: 0.565788\n",
      "Epoch: 19, Loss: 0.717294\n",
      "Epoch: 20, Loss: 0.592915\n",
      "Epoch: 21, Loss: 0.578362\n",
      "Epoch: 22, Loss: 0.393254\n",
      "Epoch: 23, Loss: 0.576483\n",
      "Epoch: 24, Loss: 0.649737\n",
      "Epoch: 25, Loss: 0.536724\n",
      "Epoch: 26, Loss: 0.587037\n",
      "Epoch: 27, Loss: 0.756247\n",
      "Epoch: 28, Loss: 0.433684\n",
      "Epoch: 29, Loss: 0.659900\n",
      "Epoch: 30, Loss: 0.817603\n",
      "Epoch: 31, Loss: 0.674738\n",
      "Epoch: 32, Loss: 0.342220\n",
      "Epoch: 33, Loss: 0.734636\n",
      "Epoch: 34, Loss: 0.747087\n",
      "Epoch: 35, Loss: 0.441718\n",
      "Epoch: 36, Loss: 0.503041\n",
      "Epoch: 37, Loss: 0.451662\n",
      "Epoch: 38, Loss: 0.383560\n",
      "Epoch: 39, Loss: 0.387489\n",
      "Epoch: 40, Loss: 0.495445\n",
      "Epoch: 41, Loss: 0.545015\n",
      "Epoch: 42, Loss: 0.447950\n",
      "Epoch: 43, Loss: 0.563254\n",
      "Epoch: 44, Loss: 0.342429\n",
      "Epoch: 45, Loss: 0.590263\n",
      "Epoch: 46, Loss: 0.550049\n",
      "Epoch: 47, Loss: 0.518342\n",
      "Epoch: 48, Loss: 0.708634\n",
      "Epoch: 49, Loss: 0.693191\n",
      "Epoch: 50, Loss: 0.492311\n",
      "Epoch: 51, Loss: 0.740766\n",
      "Epoch: 52, Loss: 0.543824\n",
      "Epoch: 53, Loss: 0.435621\n",
      "Epoch: 54, Loss: 0.612116\n",
      "Epoch: 55, Loss: 0.564035\n",
      "Epoch: 56, Loss: 0.622477\n",
      "Epoch: 57, Loss: 0.422716\n",
      "Epoch: 58, Loss: 0.684545\n",
      "Epoch: 59, Loss: 0.680234\n",
      "Epoch: 60, Loss: 0.677087\n",
      "Epoch: 61, Loss: 0.839153\n",
      "Epoch: 62, Loss: 0.733943\n",
      "Epoch: 63, Loss: 0.566135\n",
      "Epoch: 64, Loss: 0.370608\n",
      "Epoch: 65, Loss: 0.438692\n",
      "Epoch: 66, Loss: 0.585584\n",
      "Epoch: 67, Loss: 0.737777\n",
      "Epoch: 68, Loss: 0.654540\n",
      "Epoch: 69, Loss: 0.784126\n",
      "Epoch: 70, Loss: 0.572237\n",
      "Epoch: 71, Loss: 0.671186\n",
      "Epoch: 72, Loss: 0.846888\n",
      "Epoch: 73, Loss: 0.367120\n",
      "Epoch: 74, Loss: 0.682053\n",
      "Epoch: 75, Loss: 0.622713\n",
      "Epoch: 76, Loss: 0.429003\n",
      "Epoch: 77, Loss: 0.554509\n",
      "Epoch: 78, Loss: 0.483916\n",
      "Epoch: 79, Loss: 0.603343\n",
      "Epoch: 80, Loss: 0.522771\n",
      "Epoch: 81, Loss: 0.380884\n",
      "Epoch: 82, Loss: 0.590578\n",
      "Epoch: 83, Loss: 0.460720\n",
      "Epoch: 84, Loss: 0.396510\n",
      "Epoch: 85, Loss: 0.518381\n",
      "Epoch: 86, Loss: 0.870539\n",
      "Epoch: 87, Loss: 0.731849\n",
      "Epoch: 88, Loss: 0.639998\n",
      "Epoch: 89, Loss: 0.634614\n",
      "Epoch: 90, Loss: 0.505382\n",
      "Epoch: 91, Loss: 0.639316\n",
      "Epoch: 92, Loss: 0.305419\n",
      "Epoch: 93, Loss: 0.517063\n",
      "Epoch: 94, Loss: 0.499736\n",
      "Epoch: 95, Loss: 0.407469\n",
      "Epoch: 96, Loss: 0.379130\n",
      "Epoch: 97, Loss: 0.494253\n",
      "Epoch: 98, Loss: 0.614128\n",
      "Epoch: 99, Loss: 0.533423\n"
     ]
    }
   ],
   "execution_count": 13
  },
  {
   "metadata": {
    "ExecuteTime": {
     "end_time": "2024-05-30T04:09:35.547337Z",
     "start_time": "2024-05-30T04:09:35.485194Z"
    }
   },
   "cell_type": "code",
   "source": [
    "val_loder = torch.utils.data.DataLoader(cifar2_val, batch_size=64, shuffle=False)\n",
    "correct = 0\n",
    "total = 0\n",
    "\n",
    "model = model.cpu()\n",
    "\n",
    "with (torch.no_grad()):\n",
    "    for imgs, lables in val_loder:\n",
    "        batch_size = imgs.shape[0]\n",
    "        outputs = model(imgs.view(batch_size, -1))\n",
    "        _, predicted = torch.max(outputs.data, 1)\n",
    "        total += lables.size(0)\n",
    "        correct += int(predicted.eq(lables).sum().item())\n",
    "        \n",
    "    print(\"Accuracy of the network on the 10000 test images: %d %%\" % (correct/total*100))"
   ],
   "id": "613b3b548330d5f7",
   "outputs": [
    {
     "name": "stdout",
     "output_type": "stream",
     "text": [
      "Accuracy of the network on the 10000 test images: 75 %\n"
     ]
    }
   ],
   "execution_count": 14
  },
  {
   "metadata": {
    "ExecuteTime": {
     "end_time": "2024-05-30T04:09:35.551021Z",
     "start_time": "2024-05-30T04:09:35.547337Z"
    }
   },
   "cell_type": "code",
   "source": [
    "conv = nn.Conv2d(3, 1, kernel_size=3, padding=1)\n",
    "conv, conv.weight.shape, conv.bias.shape"
   ],
   "id": "eb60793e5ba59ed7",
   "outputs": [
    {
     "data": {
      "text/plain": [
       "(Conv2d(3, 1, kernel_size=(3, 3), stride=(1, 1), padding=(1, 1)),\n",
       " torch.Size([1, 3, 3, 3]),\n",
       " torch.Size([1]))"
      ]
     },
     "execution_count": 15,
     "metadata": {},
     "output_type": "execute_result"
    }
   ],
   "execution_count": 15
  },
  {
   "metadata": {
    "ExecuteTime": {
     "end_time": "2024-05-30T04:09:35.619645Z",
     "start_time": "2024-05-30T04:09:35.551021Z"
    }
   },
   "cell_type": "code",
   "source": [
    "img, _ = cifar2[2]\n",
    "output = conv(img.unsqueeze(0))\n",
    "plt.imshow(output[0, 0].detach(), cmap='gray')\n",
    "plt.show()\n",
    "img.unsqueeze(0).shape, output.shape"
   ],
   "id": "71517b228c0b9063",
   "outputs": [
    {
     "data": {
      "text/plain": [
       "<Figure size 640x480 with 1 Axes>"
      ],
      "image/png": "[encoded data removed]"
     },
     "metadata": {},
     "output_type": "display_data"
    },
    {
     "data": {
      "text/plain": [
       "(torch.Size([1, 3, 32, 32]), torch.Size([1, 1, 32, 32]))"
      ]
     },
     "execution_count": 16,
     "metadata": {},
     "output_type": "execute_result"
    }
   ],
   "execution_count": 16
  },
  {
   "metadata": {
    "ExecuteTime": {
     "end_time": "2024-05-30T04:09:35.679499Z",
     "start_time": "2024-05-30T04:09:35.619645Z"
    }
   },
   "cell_type": "code",
   "source": [
    "with torch.no_grad():\n",
    "    conv.bias.zero_()\n",
    "    \n",
    "with torch.no_grad():\n",
    "    conv.weight.fill_(1.0 / 9.0)\n",
    "\n",
    "output = conv(img.unsqueeze(0))\n",
    "plt.imshow(output[0, 0].detach(), cmap='gray')\n",
    "plt.show()"
   ],
   "id": "d15faa56d5286a1e",
   "outputs": [
    {
     "data": {
      "text/plain": [
       "<Figure size 640x480 with 1 Axes>"
      ],
      "image/png": "[encoded data removed]"
     },
     "metadata": {},
     "output_type": "display_data"
    }
   ],
   "execution_count": 17
  },
  {
   "metadata": {
    "ExecuteTime": {
     "end_time": "2024-05-30T04:09:35.735023Z",
     "start_time": "2024-05-30T04:09:35.680500Z"
    }
   },
   "cell_type": "code",
   "source": [
    "pool = nn.MaxPool2d(2)\n",
    "output = pool(conv(img.unsqueeze(0)))\n",
    "plt.imshow(output[0, 0].detach(), cmap='gray')\n",
    "plt.show()"
   ],
   "id": "19b447fd63ded34",
   "outputs": [
    {
     "data": {
      "text/plain": [
       "<Figure size 640x480 with 1 Axes>"
      ],
      "image/png": "[encoded data removed]"
     },
     "metadata": {},
     "output_type": "display_data"
    }
   ],
   "execution_count": 18
  },
  {
   "metadata": {
    "ExecuteTime": {
     "end_time": "2024-05-30T04:09:35.738732Z",
     "start_time": "2024-05-30T04:09:35.735023Z"
    }
   },
   "cell_type": "code",
   "source": [
    "model = nn.Sequential(\n",
    "    nn.Conv2d(3, 16, kernel_size=3, padding=1),\n",
    "    nn.Tanh(),\n",
    "    nn.MaxPool2d(2),\n",
    "    nn.Conv2d(16, 8, kernel_size=3, padding=1),\n",
    "    nn.Tanh(),\n",
    "    nn.MaxPool2d(2),\n",
    "    # ...\n",
    "    nn.Linear(8 * 8 * 8, 32),\n",
    "    nn.Tanh(),\n",
    "    nn.Linear(32, n_out),\n",
    ")"
   ],
   "id": "40b74db827d8c678",
   "outputs": [],
   "execution_count": 19
  },
  {
   "metadata": {
    "ExecuteTime": {
     "end_time": "2024-05-30T04:09:35.742240Z",
     "start_time": "2024-05-30T04:09:35.738732Z"
    }
   },
   "cell_type": "code",
   "source": [
    "numel_list = [p.numel() for p in model.parameters()]\n",
    "sum(numel_list), numel_list"
   ],
   "id": "42b9d76bf0ed564b",
   "outputs": [
    {
     "data": {
      "text/plain": [
       "(18090, [432, 16, 1152, 8, 16384, 32, 64, 2])"
      ]
     },
     "execution_count": 20,
     "metadata": {},
     "output_type": "execute_result"
    }
   ],
   "execution_count": 20
  },
  {
   "metadata": {
    "ExecuteTime": {
     "end_time": "2024-05-30T04:09:35.746013Z",
     "start_time": "2024-05-30T04:09:35.742240Z"
    }
   },
   "cell_type": "code",
   "source": "# model(img.unsqueeze(0))",
   "id": "ff65ad737bd5bb0f",
   "outputs": [],
   "execution_count": 21
  },
  {
   "metadata": {
    "ExecuteTime": {
     "end_time": "2024-05-30T04:09:47.656167Z",
     "start_time": "2024-05-30T04:09:47.652672Z"
    }
   },
   "cell_type": "code",
   "source": [
    "class Net(nn.Module):\n",
    "    def __init__(self):\n",
    "        super(Net, self).__init__()\n",
    "        self.conv1 = nn.Conv2d(3, 16, kernel_size=3, padding=1)\n",
    "        self.act1 = nn.Tanh()\n",
    "        self.pool11 = nn.MaxPool2d(2)\n",
    "        self.conv2 = nn.Conv2d(16, 8, kernel_size=3, padding=1)\n",
    "        self.act2 = nn.Tanh()\n",
    "        self.pool12 = nn.MaxPool2d(2)\n",
    "        self.fc1 = nn.Linear(8 * 8 * 8, 32)\n",
    "        self.act3 = nn.Tanh()\n",
    "        self.fc2 = nn.Linear(32, n_out)\n",
    "        \n",
    "    def forward(self, x):\n",
    "        out = self.pool11(self.act1(self.conv1(x)))\n",
    "        out = self.pool12(self.act2(self.conv2(out)))\n",
    "        out = out.view(-1, 8 * 8 * 8)\n",
    "        out = self.act3(self.fc1(out))\n",
    "        self.fc2(out)\n",
    "        return out"
   ],
   "id": "40d88a31681abb3b",
   "outputs": [],
   "execution_count": 22
  },
  {
   "metadata": {
    "ExecuteTime": {
     "end_time": "2024-05-30T04:19:03.167003Z",
     "start_time": "2024-05-30T04:19:03.162066Z"
    }
   },
   "cell_type": "code",
   "source": [
    "model = Net()\n",
    "\n",
    "numel_list = [p.numel() for p in model.parameters()]\n",
    "sum(numel_list), numel_list"
   ],
   "id": "698bd049f2883a0d",
   "outputs": [
    {
     "data": {
      "text/plain": [
       "(18090, [432, 16, 1152, 8, 16384, 32, 64, 2])"
      ]
     },
     "execution_count": 26,
     "metadata": {},
     "output_type": "execute_result"
    }
   ],
   "execution_count": 26
  },
  {
   "metadata": {
    "ExecuteTime": {
     "end_time": "2024-05-30T05:05:09.278304Z",
     "start_time": "2024-05-30T05:05:09.273797Z"
    }
   },
   "cell_type": "code",
   "source": [
    "import torch.nn.functional as F\n",
    "\n",
    "class Net(nn.Module):\n",
    "    def __init__(self):\n",
    "        super().__init__()\n",
    "        self.conv1 = nn.Conv2d(3, 16, kernel_size=3, padding=1)\n",
    "        self.conv2 = nn.Conv2d(16, 8, kernel_size=3, padding=1)\n",
    "        self.fc1 = nn.Linear(8 * 8 * 8, 32)\n",
    "        self.fc2 = nn.Linear(32, n_out)\n",
    "        \n",
    "    def forward(self, x):\n",
    "        out = F.max_pool2d(torch.tanh(self.conv1(x)), 2)\n",
    "        out = F.max_pool2d(torch.tanh(self.conv2(out)), 2)\n",
    "        out = out.view(-1, 8 * 8 * 8)\n",
    "        out = torch.tanh(self.fc1(out))\n",
    "        out = self.fc2(out)\n",
    "        return out\n",
    "        "
   ],
   "id": "7bf113dec7f78011",
   "outputs": [],
   "execution_count": 27
  },
  {
   "metadata": {
    "ExecuteTime": {
     "end_time": "2024-05-30T05:05:20.146063Z",
     "start_time": "2024-05-30T05:05:20.141737Z"
    }
   },
   "cell_type": "code",
   "source": [
    "model = Net()\n",
    "model(img.unsqueeze(0))"
   ],
   "id": "6127996b285ed434",
   "outputs": [
    {
     "data": {
      "text/plain": [
       "tensor([[-0.0113, -0.1712]], grad_fn=<AddmmBackward0>)"
      ]
     },
     "execution_count": 28,
     "metadata": {},
     "output_type": "execute_result"
    }
   ],
   "execution_count": 28
  },
  {
   "metadata": {
    "ExecuteTime": {
     "end_time": "2024-05-30T05:30:28.477676Z",
     "start_time": "2024-05-30T05:30:28.474171Z"
    }
   },
   "cell_type": "code",
   "source": [
    "import datetime\n",
    "\n",
    "def training_loop(n_epochs, optimizer, model, loss_fn, train_loader):\n",
    "    for epoch in range(n_epochs + 1):\n",
    "        loss_train = 0\n",
    "        for imgs, lables in train_loader:\n",
    "            \n",
    "            imgs = imgs.to(device)\n",
    "            lables = lables.to(device)\n",
    "            \n",
    "            outputs = model(imgs)\n",
    "            \n",
    "            loss = loss_fn(outputs, lables)\n",
    "            \n",
    "            optimizer.zero_grad()\n",
    "            \n",
    "            loss.backward()\n",
    "            \n",
    "            optimizer.step()\n",
    "            \n",
    "            loss_train += loss.item()\n",
    "            \n",
    "        if epoch % 10 == 0:\n",
    "            print('{} Epoch {}, Training loss {}'.format( \n",
    "                datetime.datetime.now(), epoch, \n",
    "                loss_train / len(train_loader)))"
   ],
   "id": "259dad6694b4815a",
   "outputs": [],
   "execution_count": 40
  },
  {
   "metadata": {
    "ExecuteTime": {
     "end_time": "2024-05-30T05:31:19.431673Z",
     "start_time": "2024-05-30T05:30:59.793834Z"
    }
   },
   "cell_type": "code",
   "source": [
    "from torch import optim\n",
    "\n",
    "train_loader = torch.utils.data.DataLoader(cifar2, batch_size=64, shuffle=True)\n",
    "\n",
    "model = Net().to(device = device)\n",
    "\n",
    "optimizer = optim.SGD(model.parameters(), lr=1e-2)\n",
    "loss_fn = nn.CrossEntropyLoss()\n",
    "\n",
    "\n",
    "training_loop(\n",
    "    n_epochs = 100,\n",
    "    optimizer = optimizer,\n",
    "    model = model,\n",
    "    loss_fn = loss_fn,\n",
    "    train_loader = train_loader\n",
    ")"
   ],
   "id": "72ef4cf067bd929d",
   "outputs": [
    {
     "name": "stdout",
     "output_type": "stream",
     "text": [
      "2024-05-30 13:31:00.179106 Epoch 0, Training loss 0.5616200012006577\n",
      "2024-05-30 13:31:02.144076 Epoch 10, Training loss 0.33510166843226\n",
      "2024-05-30 13:31:04.149272 Epoch 20, Training loss 0.30372113663299827\n",
      "2024-05-30 13:31:06.165359 Epoch 30, Training loss 0.281037911108345\n",
      "2024-05-30 13:31:08.181082 Epoch 40, Training loss 0.25856246699573127\n",
      "2024-05-30 13:31:10.197109 Epoch 50, Training loss 0.2391421416193057\n",
      "2024-05-30 13:31:12.073087 Epoch 60, Training loss 0.21959816635983764\n",
      "2024-05-30 13:31:13.901091 Epoch 70, Training loss 0.20135911577826093\n",
      "2024-05-30 13:31:15.735651 Epoch 80, Training loss 0.18775314557704198\n",
      "2024-05-30 13:31:17.568301 Epoch 90, Training loss 0.17419740764103878\n",
      "2024-05-30 13:31:19.429820 Epoch 100, Training loss 0.16006988391375085\n"
     ]
    }
   ],
   "execution_count": 42
  },
  {
   "metadata": {
    "ExecuteTime": {
     "end_time": "2024-05-30T05:48:15.499205Z",
     "start_time": "2024-05-30T05:48:15.247087Z"
    }
   },
   "cell_type": "code",
   "source": [
    "val_loder = torch.utils.data.DataLoader(cifar2_val, batch_size=64, shuffle=False)\n",
    "\n",
    "def validate(model, train_loader, val_loader):\n",
    "    for name, loder in [(\"train\", train_loader), (\"val\", val_loader)]:\n",
    "        correct = 0\n",
    "        total = 0\n",
    "        \n",
    "        with torch.no_grad():\n",
    "            for imgs, lables in loder:\n",
    "                imgs = imgs.to(device)\n",
    "                lables = lables.to(device)\n",
    "                outputs = model(imgs)\n",
    "                _, predicted = torch.max(outputs.data, 1)\n",
    "                total += lables.size(0)\n",
    "                correct += int(predicted.eq(lables).sum().item())\n",
    "                \n",
    "        print(\"Accuracy of the network on the 10000 test images: %d %%\" % (correct/total*100))\n",
    "        \n",
    "validate(model, train_loader, val_loder)"
   ],
   "id": "9f2e0daaf290d286",
   "outputs": [
    {
     "name": "stdout",
     "output_type": "stream",
     "text": [
      "Accuracy of the network on the 10000 test images: 93 %\n",
      "Accuracy of the network on the 10000 test images: 89 %\n"
     ]
    }
   ],
   "execution_count": 44
  },
  {
   "metadata": {
    "ExecuteTime": {
     "end_time": "2024-05-30T05:51:14.187362Z",
     "start_time": "2024-05-30T05:51:14.180667Z"
    }
   },
   "cell_type": "code",
   "source": [
    "torch.save(model.state_dict(), data_path + 'birds_vs_plane_design_by_pupu_2405')\n",
    "loaded_model = Net()\n",
    "loaded_model.load_state_dict(torch.load(data_path + 'birds_vs_plane_design_by_pupu_2405'))"
   ],
   "id": "7e19a49884035784",
   "outputs": [
    {
     "data": {
      "text/plain": [
       "<All keys matched successfully>"
      ]
     },
     "execution_count": 46,
     "metadata": {},
     "output_type": "execute_result"
    }
   ],
   "execution_count": 46
  }
 ],
 "metadata": {
  "kernelspec": {
   "display_name": "Python 3",
   "language": "python",
   "name": "python3"
  },
  "language_info": {
   "codemirror_mode": {
    "name": "ipython",
    "version": 2
   },
   "file_extension": ".py",
   "mimetype": "text/x-python",
   "name": "python",
   "nbconvert_exporter": "python",
   "pygments_lexer": "ipython2",
   "version": "2.7.6"
  }
 },
 "nbformat": 4,
 "nbformat_minor": 5
}
