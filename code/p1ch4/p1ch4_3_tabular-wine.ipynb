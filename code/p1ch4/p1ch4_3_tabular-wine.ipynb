{
 "cells": [
  {
   "cell_type": "code",
   "id": "initial_id",
   "metadata": {
    "collapsed": true,
    "ExecuteTime": {
     "end_time": "2024-05-17T00:58:33.259140Z",
     "start_time": "2024-05-17T00:58:31.265713Z"
    }
   },
   "source": [
    "import csv\n",
    "import numpy as np\n",
    "import torch"
   ],
   "outputs": [],
   "execution_count": 1
  },
  {
   "metadata": {
    "ExecuteTime": {
     "end_time": "2024-05-16T15:20:33.117395Z",
     "start_time": "2024-05-16T15:20:33.105211Z"
    }
   },
   "cell_type": "code",
   "source": [
    "wine_path = r'C:\\Users\\84832\\Documents\\ML_pytorch\\dlwpt-code-master\\data\\p1ch4\\tabular-wine/winequality-white.csv'\n",
    "wineq_numpy = np.loadtxt(wine_path, dtype=np.float32, delimiter=';', skiprows=1)\n",
    "wineq_numpy"
   ],
   "id": "4f7f2ae01313f187",
   "outputs": [
    {
     "data": {
      "text/plain": [
       "array([[ 7.  ,  0.27,  0.36, ...,  0.45,  8.8 ,  6.  ],\n",
       "       [ 6.3 ,  0.3 ,  0.34, ...,  0.49,  9.5 ,  6.  ],\n",
       "       [ 8.1 ,  0.28,  0.4 , ...,  0.44, 10.1 ,  6.  ],\n",
       "       ...,\n",
       "       [ 6.5 ,  0.24,  0.19, ...,  0.46,  9.4 ,  6.  ],\n",
       "       [ 5.5 ,  0.29,  0.3 , ...,  0.38, 12.8 ,  7.  ],\n",
       "       [ 6.  ,  0.21,  0.38, ...,  0.32, 11.8 ,  6.  ]], dtype=float32)"
      ]
     },
     "execution_count": 3,
     "metadata": {},
     "output_type": "execute_result"
    }
   ],
   "execution_count": 3
  },
  {
   "metadata": {
    "ExecuteTime": {
     "end_time": "2024-05-16T15:20:33.121183Z",
     "start_time": "2024-05-16T15:20:33.117395Z"
    }
   },
   "cell_type": "code",
   "source": [
    "col_list = next(csv.reader(open(wine_path), delimiter=';'))\n",
    "wineq_numpy.shape, col_list"
   ],
   "id": "bac17eea2aa29256",
   "outputs": [
    {
     "data": {
      "text/plain": [
       "((4898, 12),\n",
       " ['fixed acidity',\n",
       "  'volatile acidity',\n",
       "  'citric acid',\n",
       "  'residual sugar',\n",
       "  'chlorides',\n",
       "  'free sulfur dioxide',\n",
       "  'total sulfur dioxide',\n",
       "  'density',\n",
       "  'pH',\n",
       "  'sulphates',\n",
       "  'alcohol',\n",
       "  'quality'])"
      ]
     },
     "execution_count": 4,
     "metadata": {},
     "output_type": "execute_result"
    }
   ],
   "execution_count": 4
  },
  {
   "metadata": {
    "ExecuteTime": {
     "end_time": "2024-05-16T15:20:33.127889Z",
     "start_time": "2024-05-16T15:20:33.121183Z"
    }
   },
   "cell_type": "code",
   "source": [
    "wineq = torch.from_numpy(wineq_numpy).float()\n",
    "wineq.size()\n",
    "wineq.shape, wineq.dtype"
   ],
   "id": "5854a1ba76a4de1c",
   "outputs": [
    {
     "data": {
      "text/plain": [
       "(torch.Size([4898, 12]), torch.float32)"
      ]
     },
     "execution_count": 5,
     "metadata": {},
     "output_type": "execute_result"
    }
   ],
   "execution_count": 5
  },
  {
   "metadata": {
    "ExecuteTime": {
     "end_time": "2024-05-16T15:20:50.478036Z",
     "start_time": "2024-05-16T15:20:50.474195Z"
    }
   },
   "cell_type": "code",
   "source": [
    "data = wineq[:, :-1]\n",
    "# data, data.shape\n",
    "target = wineq[:, -1].long()\n",
    "# target, target.shape\n",
    "target, target.shape"
   ],
   "id": "9eaabab47078ede8",
   "outputs": [
    {
     "data": {
      "text/plain": [
       "(tensor([6, 6, 6,  ..., 6, 7, 6]), torch.Size([4898]))"
      ]
     },
     "execution_count": 8,
     "metadata": {},
     "output_type": "execute_result"
    }
   ],
   "execution_count": 8
  },
  {
   "metadata": {
    "ExecuteTime": {
     "end_time": "2024-05-16T09:02:27.058522Z",
     "start_time": "2024-05-16T09:02:27.053053Z"
    }
   },
   "cell_type": "code",
   "source": [
    "target_onehot = torch.zeros(target.shape[0], 10)\n",
    "target_onehot.scatter_(1, target.unsqueeze(1), 1.0)\n",
    "target_onehot.shape, target_onehot"
   ],
   "id": "800efff07dbb1d80",
   "outputs": [
    {
     "data": {
      "text/plain": [
       "(torch.Size([4898, 10]),\n",
       " tensor([[0., 0., 0.,  ..., 0., 0., 0.],\n",
       "         [0., 0., 0.,  ..., 0., 0., 0.],\n",
       "         [0., 0., 0.,  ..., 0., 0., 0.],\n",
       "         ...,\n",
       "         [0., 0., 0.,  ..., 0., 0., 0.],\n",
       "         [0., 0., 0.,  ..., 1., 0., 0.],\n",
       "         [0., 0., 0.,  ..., 0., 0., 0.]]))"
      ]
     },
     "execution_count": 29,
     "metadata": {},
     "output_type": "execute_result"
    }
   ],
   "execution_count": 29
  },
  {
   "metadata": {
    "ExecuteTime": {
     "end_time": "2024-05-16T15:23:59.560169Z",
     "start_time": "2024-05-16T15:23:59.556325Z"
    }
   },
   "cell_type": "code",
   "source": [
    "target_unsqueezed = target.unsqueeze(1)\n",
    "target_unsqueezed, target_unsqueezed.shape"
   ],
   "id": "ef8c3fffb222b484",
   "outputs": [
    {
     "data": {
      "text/plain": [
       "(tensor([[6],\n",
       "         [6],\n",
       "         [6],\n",
       "         ...,\n",
       "         [6],\n",
       "         [7],\n",
       "         [6]]),\n",
       " torch.Size([4898, 1]))"
      ]
     },
     "execution_count": 10,
     "metadata": {},
     "output_type": "execute_result"
    }
   ],
   "execution_count": 10
  },
  {
   "metadata": {
    "ExecuteTime": {
     "end_time": "2024-05-16T15:26:38.253639Z",
     "start_time": "2024-05-16T15:26:38.248774Z"
    }
   },
   "cell_type": "code",
   "source": [
    "data_mean = torch.mean(data, dim=0)\n",
    "# data_mean\n",
    "data_var = torch.var(data, dim=0)\n",
    "# data_var\n",
    "data_normalized = (data - data_mean) / torch.sqrt(data_var)\n",
    "data_normalized"
   ],
   "id": "f260bea5cfcf0ea8",
   "outputs": [
    {
     "data": {
      "text/plain": [
       "tensor([[ 1.7208e-01, -8.1761e-02,  2.1326e-01,  ..., -1.2468e+00,\n",
       "         -3.4915e-01, -1.3930e+00],\n",
       "        [-6.5743e-01,  2.1587e-01,  4.7996e-02,  ...,  7.3995e-01,\n",
       "          1.3422e-03, -8.2419e-01],\n",
       "        [ 1.4756e+00,  1.7450e-02,  5.4378e-01,  ...,  4.7505e-01,\n",
       "         -4.3677e-01, -3.3663e-01],\n",
       "        ...,\n",
       "        [-4.2043e-01, -3.7940e-01, -1.1915e+00,  ..., -1.3130e+00,\n",
       "         -2.6153e-01, -9.0545e-01],\n",
       "        [-1.6054e+00,  1.1666e-01, -2.8253e-01,  ...,  1.0049e+00,\n",
       "         -9.6251e-01,  1.8574e+00],\n",
       "        [-1.0129e+00, -6.7703e-01,  3.7852e-01,  ...,  4.7505e-01,\n",
       "         -1.4882e+00,  1.0448e+00]])"
      ]
     },
     "execution_count": 15,
     "metadata": {},
     "output_type": "execute_result"
    }
   ],
   "execution_count": 15
  },
  {
   "metadata": {
    "ExecuteTime": {
     "end_time": "2024-05-16T15:29:57.076885Z",
     "start_time": "2024-05-16T15:29:57.071129Z"
    }
   },
   "cell_type": "code",
   "source": [
    "# 寻找阈值\n",
    "bad_index = target <= 3\n",
    "# bad_index.sum(), bad_index.shape, bad_index.dtype\n",
    "bad_data = data[bad_index]\n",
    "bad_data.shape"
   ],
   "id": "62eaba80cbc4be4e",
   "outputs": [
    {
     "data": {
      "text/plain": [
       "torch.Size([20, 11])"
      ]
     },
     "execution_count": 17,
     "metadata": {},
     "output_type": "execute_result"
    }
   ],
   "execution_count": 17
  }
 ],
 "metadata": {
  "kernelspec": {
   "display_name": "Python 3",
   "language": "python",
   "name": "python3"
  },
  "language_info": {
   "codemirror_mode": {
    "name": "ipython",
    "version": 2
   },
   "file_extension": ".py",
   "mimetype": "text/x-python",
   "name": "python",
   "nbconvert_exporter": "python",
   "pygments_lexer": "ipython2",
   "version": "2.7.6"
  }
 },
 "nbformat": 4,
 "nbformat_minor": 5
}
