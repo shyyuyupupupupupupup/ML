{
 "cells": [
  {
   "cell_type": "code",
   "id": "initial_id",
   "metadata": {
    "collapsed": true,
    "ExecuteTime": {
     "end_time": "2024-05-15T14:15:10.987327Z",
     "start_time": "2024-05-15T14:15:10.976529Z"
    }
   },
   "source": [
    "import torch\n",
    "import imageio\n",
    "import numpy as np"
   ],
   "outputs": [],
   "execution_count": 3
  },
  {
   "metadata": {
    "ExecuteTime": {
     "end_time": "2024-05-15T14:51:51.666744Z",
     "start_time": "2024-05-15T14:51:51.566754Z"
    }
   },
   "cell_type": "code",
   "source": [
    "dir_path = r\"C:\\Users\\84832\\Documents\\ML_pytorch\\本书代码文件\\dlwpt-code-master\\data\\p1ch4\\volumetric-dicom\\2-LUNG 3.0  B70f-04083\"\n",
    "vol_arr = imageio.volread(dir_path, 'DICOM')\n",
    "print(vol_arr.shape)\n",
    "vol = torch.from_numpy(vol_arr)\n",
    "vol = vol.unsqueeze(0)\n",
    "vol.shape"
   ],
   "id": "4f307f5847e13ac4",
   "outputs": [
    {
     "name": "stdout",
     "output_type": "stream",
     "text": [
      "Reading DICOM (examining files): 99/99 files (100.0%)\n",
      "  Found 1 correct series.\n",
      "Reading DICOM (loading data): 99/99  (100.0%)\n",
      "(99, 512, 512)\n"
     ]
    },
    {
     "data": {
      "text/plain": [
       "torch.Size([1, 99, 512, 512])"
      ]
     },
     "execution_count": 7,
     "metadata": {},
     "output_type": "execute_result"
    }
   ],
   "execution_count": 7
  }
 ],
 "metadata": {
  "kernelspec": {
   "display_name": "Python 3",
   "language": "python",
   "name": "python3"
  },
  "language_info": {
   "codemirror_mode": {
    "name": "ipython",
    "version": 2
   },
   "file_extension": ".py",
   "mimetype": "text/x-python",
   "name": "python",
   "nbconvert_exporter": "python",
   "pygments_lexer": "ipython2",
   "version": "2.7.6"
  }
 },
 "nbformat": 4,
 "nbformat_minor": 5
}
