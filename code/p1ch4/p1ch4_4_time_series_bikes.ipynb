{
 "cells": [
  {
   "cell_type": "code",
   "id": "initial_id",
   "metadata": {
    "collapsed": true,
    "ExecuteTime": {
     "end_time": "2024-05-17T09:36:58.278672Z",
     "start_time": "2024-05-17T09:36:58.276340Z"
    }
   },
   "source": [
    "import torch\n",
    "import numpy as np"
   ],
   "outputs": [],
   "execution_count": 5
  },
  {
   "metadata": {
    "ExecuteTime": {
     "end_time": "2024-05-17T11:12:54.693961Z",
     "start_time": "2024-05-17T11:12:54.663229Z"
    }
   },
   "cell_type": "code",
   "source": [
    "bikes_numpy = np.loadtxt(r'C:\\Users\\84832\\Documents\\ML_pytorch\\dlwpt-code-master\\data\\p1ch4\\bike-sharing-dataset/hour-fixed.csv', delimiter=',', skiprows=1, dtype=np.float32, converters={1: lambda x : float(x[8:10])})\n",
    "bikes = torch.from_numpy(bikes_numpy).float()\n",
    "print(bikes.shape, bikes.stride(), bikes[:24].shape)\n",
    "daily_bikes = bikes.view(-1, 24, bikes.shape[1])\n",
    "print(daily_bikes.shape, daily_bikes.stride())\n",
    "daily_bikes = daily_bikes.transpose(1, 2)\n",
    "print(daily_bikes.shape, daily_bikes.stride())"
   ],
   "id": "497ed8a155f983ff",
   "outputs": [
    {
     "name": "stdout",
     "output_type": "stream",
     "text": [
      "torch.Size([17520, 17]) (17, 1) torch.Size([24, 17])\n",
      "torch.Size([730, 24, 17]) (408, 17, 1)\n",
      "torch.Size([730, 17, 24]) (408, 1, 17)\n"
     ]
    }
   ],
   "execution_count": 19
  },
  {
   "metadata": {
    "ExecuteTime": {
     "end_time": "2024-05-17T11:37:09.708562Z",
     "start_time": "2024-05-17T11:37:09.704964Z"
    }
   },
   "cell_type": "code",
   "source": [
    "# 准备训练\n",
    "first_day  = bikes[:24].long()\n",
    "weather_onehot = torch.zeros(first_day.shape[0], 4)\n",
    "# print(first_day[:, 9])\n",
    "# print(bikes.shape, first_day.shape, first_day[:, 9].shape, first_day.stride())\n",
    "weather_onehot.scatter_(dim=1, index=first_day[:,9].unsqueeze(1).long() - 1, value=1.0)\n",
    "# weather_onehot\n",
    "# print(weather_onehot)\n",
    "new_bike = torch.cat((bikes[:24], weather_onehot), dim=1)\n",
    "print(new_bike.shape)"
   ],
   "id": "fc1df18975cc81ef",
   "outputs": [
    {
     "name": "stdout",
     "output_type": "stream",
     "text": [
      "torch.Size([24, 21])\n"
     ]
    }
   ],
   "execution_count": 22
  }
 ],
 "metadata": {
  "kernelspec": {
   "display_name": "Python 3",
   "language": "python",
   "name": "python3"
  },
  "language_info": {
   "codemirror_mode": {
    "name": "ipython",
    "version": 2
   },
   "file_extension": ".py",
   "mimetype": "text/x-python",
   "name": "python",
   "nbconvert_exporter": "python",
   "pygments_lexer": "ipython2",
   "version": "2.7.6"
  }
 },
 "nbformat": 4,
 "nbformat_minor": 5
}
