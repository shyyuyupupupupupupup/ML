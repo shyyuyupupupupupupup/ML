{
 "cells": [
  {
   "cell_type": "code",
   "id": "initial_id",
   "metadata": {
    "collapsed": true,
    "ExecuteTime": {
     "end_time": "2024-05-18T04:24:55.320128Z",
     "start_time": "2024-05-18T04:24:52.635399Z"
    }
   },
   "source": "import torch",
   "execution_count": 6,
   "outputs": []
  },
  {
   "metadata": {
    "ExecuteTime": {
     "end_time": "2024-05-18T04:23:43.768964Z",
     "start_time": "2024-05-18T04:23:43.764317Z"
    }
   },
   "cell_type": "code",
   "source": [
    "with open(r'C:\\Users\\84832\\Documents\\ML_pytorch\\dlwpt-code-master\\data\\p1ch4\\jane-austen/1342-0.txt', encoding='utf8') as f:\n",
    "    text = f.read()\n",
    "lines = text.split('\\n')\n",
    "line = lines[200]\n",
    "print(line)"
   ],
   "id": "6a25652ceb57d655",
   "execution_count": 4,
   "outputs": []
  },
  {
   "metadata": {
    "ExecuteTime": {
     "end_time": "2024-05-18T04:26:24.478361Z",
     "start_time": "2024-05-18T04:26:24.474372Z"
    }
   },
   "cell_type": "code",
   "source": [
    "letter_t = torch.zeros(len(line), 128)\n",
    "letter_t.shape"
   ],
   "id": "fa636ee4383bdddb",
   "execution_count": 9,
   "outputs": []
  },
  {
   "metadata": {},
   "cell_type": "code",
   "execution_count": null,
   "source": [
    "for i, letter in enumerate(line.lower().strip()):\n",
    "    letter_index = ord(letter) if ord(letter_t) < 128 else 0\n",
    "    letter_t[i, letter_index] = 1"
   ],
   "id": "804eb7de5d7704d3",
   "outputs": []
  }
 ],
 "metadata": {
  "kernelspec": {
   "display_name": "Python 3",
   "language": "python",
   "name": "python3"
  },
  "language_info": {
   "codemirror_mode": {
    "name": "ipython",
    "version": 2
   },
   "file_extension": ".py",
   "mimetype": "text/x-python",
   "name": "python",
   "nbconvert_exporter": "python",
   "pygments_lexer": "ipython2",
   "version": "2.7.6"
  }
 },
 "nbformat": 4,
 "nbformat_minor": 5
}
