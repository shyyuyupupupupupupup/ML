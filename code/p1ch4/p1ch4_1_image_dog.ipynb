{
 "cells": [
  {
   "cell_type": "code",
   "id": "initial_id",
   "metadata": {
    "collapsed": true,
    "ExecuteTime": {
     "end_time": "2024-05-15T11:42:02.507191Z",
     "start_time": "2024-05-15T11:42:01.648491Z"
    }
   },
   "source": [
    "import numpy as np\n",
    "import torch\n",
    "from PIL import Image"
   ],
   "execution_count": 27,
   "outputs": []
  },
  {
   "metadata": {
    "ExecuteTime": {
     "end_time": "2024-05-15T11:42:02.514477Z",
     "start_time": "2024-05-15T11:42:02.507191Z"
    }
   },
   "cell_type": "code",
   "source": [
    "img_arr = r'D:\\Project\\PyProject\\pytorch_example\\IMG\\bobby.jpg'\n",
    "img = Image.open(img_arr)\n",
    "img_np = np.array(img)\n",
    "# print(img_np.shape)\n",
    "out = img_np.transpose(2, 1, 0)\n",
    "# print(out.shape)"
   ],
   "id": "9e3d81efc404e724",
   "execution_count": 28,
   "outputs": []
  },
  {
   "metadata": {
    "ExecuteTime": {
     "end_time": "2024-05-15T13:12:14.701053Z",
     "start_time": "2024-05-15T13:12:14.688761Z"
    }
   },
   "cell_type": "code",
   "source": [
    "batch_size = 3\n",
    "batch = torch.zeros(batch_size, 3, 256, 256, dtype=torch.uint8)\n",
    "import os\n",
    "data_dir = r'C:\\Users\\84832\\Documents\\ML_pytorch\\本书代码文件\\dlwpt-code-master\\data\\p1ch4\\image-cats'\n",
    "file_names = [name for name in os.listdir(data_dir) if os.path.splitext(name)[-1] == '.png']\n",
    "print(file_names)\n",
    "for i, file_name in enumerate(file_names):\n",
    "    img_arr = Image.open(os.path.join(data_dir, file_name))\n",
    "    img_arr = np.array(img_arr)\n",
    "    img_t = torch.from_numpy(img_arr)\n",
    "    img_t = img_t.permute(2, 0, 1)\n",
    "    img_t = img_t[:3]\n",
    "    batch[i] = img_t\n",
    "batch = batch.float()\n",
    "batch /= 255.0\n",
    "print(batch)"
   ],
   "id": "8ebeaf68eee428da",
   "execution_count": 41,
   "outputs": []
  }
 ],
 "metadata": {
  "kernelspec": {
   "display_name": "Python 3",
   "language": "python",
   "name": "python3"
  },
  "language_info": {
   "codemirror_mode": {
    "name": "ipython",
    "version": 2
   },
   "file_extension": ".py",
   "mimetype": "text/x-python",
   "name": "python",
   "nbconvert_exporter": "python",
   "pygments_lexer": "ipython2",
   "version": "2.7.6"
  }
 },
 "nbformat": 4,
 "nbformat_minor": 5
}
