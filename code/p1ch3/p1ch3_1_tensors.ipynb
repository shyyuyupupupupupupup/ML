{
 "cells": [
  {
   "cell_type": "code",
   "id": "initial_id",
   "metadata": {
    "collapsed": true,
    "ExecuteTime": {
     "end_time": "2024-05-15T07:54:14.779054Z",
     "start_time": "2024-05-15T07:54:13.868341Z"
    }
   },
   "source": [
    "import torch\n",
    "a = torch.ones(3)\n",
    "float(a[1])"
   ],
   "execution_count": 2,
   "outputs": []
  },
  {
   "metadata": {
    "ExecuteTime": {
     "end_time": "2024-05-15T07:54:14.782313Z",
     "start_time": "2024-05-15T07:54:14.780056Z"
    }
   },
   "cell_type": "code",
   "source": [
    "some_list = list(range(10))\n",
    "print(some_list)\n",
    "print(some_list[1:4])\n",
    "print(some_list[::2])"
   ],
   "id": "ee2bcb6048b63129",
   "execution_count": 3,
   "outputs": []
  },
  {
   "metadata": {
    "ExecuteTime": {
     "end_time": "2024-05-15T07:54:14.789614Z",
     "start_time": "2024-05-15T07:54:14.782313Z"
    }
   },
   "cell_type": "code",
   "source": [
    "import torch\n",
    "img_t = torch.rand(3, 5, 5)\n",
    "print(type(img_t))\n",
    "weights = torch.tensor(0.2126)\n",
    "print(weights)"
   ],
   "id": "91fd714ad1873503",
   "execution_count": 4,
   "outputs": []
  },
  {
   "metadata": {
    "ExecuteTime": {
     "end_time": "2024-05-15T07:54:14.793393Z",
     "start_time": "2024-05-15T07:54:14.790616Z"
    }
   },
   "cell_type": "code",
   "source": [
    "double_tensor = torch.ones(10, 2)\n",
    "print(double_tensor.dtype)\n",
    "short_tensor = torch.tensor([1, 2], dtype=torch.float)\n",
    "print(short_tensor.dtype)\n",
    "double_tensor = double_tensor.double()\n",
    "print(double_tensor.dtype)"
   ],
   "id": "502b6ec772d65848",
   "execution_count": 5,
   "outputs": []
  },
  {
   "metadata": {
    "ExecuteTime": {
     "end_time": "2024-05-15T07:54:14.797446Z",
     "start_time": "2024-05-15T07:54:14.793898Z"
    }
   },
   "cell_type": "code",
   "source": [
    "a = torch.ones(3, 2)\n",
    "a_t = torch.transpose(a,0,1)\n",
    "print(a.shape)\n",
    "print(a_t.shape)"
   ],
   "id": "8a2ae4b48151d2fb",
   "execution_count": 6,
   "outputs": []
  },
  {
   "metadata": {
    "ExecuteTime": {
     "end_time": "2024-05-15T07:54:14.801165Z",
     "start_time": "2024-05-15T07:54:14.797446Z"
    }
   },
   "cell_type": "code",
   "source": [
    "points = torch.tensor([[4.0, 2.0], [5.0, 3.0], [2.0, 1.0]])\n",
    "second_points = points[1]\n",
    "second_points.storage_offset()\n",
    "print(points)\n",
    "print(second_points)\n",
    "second_points.size()\n",
    "print(second_points.shape)"
   ],
   "id": "cb910bc1c80292b3",
   "execution_count": 7,
   "outputs": []
  },
  {
   "metadata": {
    "ExecuteTime": {
     "end_time": "2024-05-15T07:54:14.806138Z",
     "start_time": "2024-05-15T07:54:14.801165Z"
    }
   },
   "cell_type": "code",
   "source": [
    "# In[30]:\n",
    "points = torch.tensor([[4.0, 1.0], [5.0, 3.0], [2.0, 1.0]])\n",
    "points\n",
    "# Out[30]:\n",
    "\n",
    "# In[31]:\n",
    "points_t = points.t()\n",
    "points_t\n",
    "# Out[31]:"
   ],
   "id": "5d7fcc64d2078c01",
   "execution_count": 8,
   "outputs": []
  },
  {
   "metadata": {
    "ExecuteTime": {
     "end_time": "2024-05-15T07:54:14.809907Z",
     "start_time": "2024-05-15T07:54:14.806138Z"
    }
   },
   "cell_type": "code",
   "source": [
    "# In[29]:\n",
    "points = torch.tensor([[4.0, 1.0], [5.0, 3.0], [2.0, 1.0]])\n",
    "second_point = points[1]\n",
    "second_point[0] = 10.0\n",
    "second_point\n",
    "# Out[29]:"
   ],
   "id": "bc0f90b4d00c29fb",
   "execution_count": 9,
   "outputs": []
  },
  {
   "metadata": {
    "ExecuteTime": {
     "end_time": "2024-05-15T07:54:14.813905Z",
     "start_time": "2024-05-15T07:54:14.809907Z"
    }
   },
   "cell_type": "code",
   "source": [
    "some_t = torch.ones(3, 4, 5)\n",
    "print(some_t.stride())\n",
    "transposed_t = torch.transpose(some_t, 0, 2)\n",
    "print(transposed_t)\n",
    "print(transposed_t.shape)\n",
    "print(transposed_t.stride())"
   ],
   "id": "73ebcf99a0b3bb74",
   "execution_count": 10,
   "outputs": []
  },
  {
   "metadata": {
    "ExecuteTime": {
     "end_time": "2024-05-15T07:54:15.088477Z",
     "start_time": "2024-05-15T07:54:14.814907Z"
    }
   },
   "cell_type": "code",
   "source": [
    "points_gpu = torch.tensor([[3.0, 1.0], [5.0, 3.0], [2.0, 1.0]], device='cuda')\n",
    "print(points_gpu)"
   ],
   "id": "115fb8bf153ff520",
   "execution_count": 11,
   "outputs": []
  },
  {
   "metadata": {
    "ExecuteTime": {
     "end_time": "2024-05-15T07:54:15.092794Z",
     "start_time": "2024-05-15T07:54:15.088477Z"
    }
   },
   "cell_type": "code",
   "source": [
    "import torch\n",
    "points = torch.ones(3, 4)\n",
    "print(points.dtype)\n",
    "points_np = points.numpy()\n",
    "print(points_np)\n",
    "print(type(points_np))\n",
    "points = torch.from_numpy(points_np)\n",
    "print(points)\n",
    "print(points.dtype)"
   ],
   "id": "5ab2410a280846a6",
   "execution_count": 12,
   "outputs": []
  },
  {
   "metadata": {
    "ExecuteTime": {
     "end_time": "2024-05-15T08:46:11.241921Z",
     "start_time": "2024-05-15T08:46:11.237922Z"
    }
   },
   "cell_type": "code",
   "source": [
    "a_list = list(range(9))\n",
    "a = torch.tensor(a_list)\n",
    "b = a.view(3, 3)\n",
    "print(b.stride())\n",
    "print(a.untyped_storage() == b.untyped_storage())\n",
    "print(a)\n",
    "print(f'a_size: {a.size()}')\n",
    "print(f'storage_offset: {a.storage_offset()}')\n",
    "print(f'a_stride: {a.stride()}')\n",
    "c = b[1:, 1:]\n",
    "print(c)\n",
    "print(f'a_size: {c.size()}')\n",
    "print(f'storage_offset: {c.storage_offset()}')\n",
    "print(f'a_stride: {c.stride()}')"
   ],
   "id": "bbb7576f317988e2",
   "execution_count": 30,
   "outputs": []
  },
  {
   "metadata": {
    "ExecuteTime": {
     "end_time": "2024-05-15T10:01:51.703556Z",
     "start_time": "2024-05-15T10:01:51.698633Z"
    }
   },
   "cell_type": "code",
   "source": [
    "a_list = list(range(9))\n",
    "a = torch.tensor(a_list)\n",
    "a = a.view(3, 3)\n",
    "b = a.cos()\n",
    "print(b)\n",
    "c = a.sqrt()\n",
    "print(c)\n",
    "a_sqrt = a[1].sqrt()\n",
    "print(a_sqrt)\n",
    "print(a)"
   ],
   "id": "7a565aae3d1aa897",
   "execution_count": 42,
   "outputs": []
  }
 ],
 "metadata": {
  "kernelspec": {
   "display_name": "Python 3",
   "language": "python",
   "name": "python3"
  },
  "language_info": {
   "codemirror_mode": {
    "name": "ipython",
    "version": 2
   },
   "file_extension": ".py",
   "mimetype": "text/x-python",
   "name": "python",
   "nbconvert_exporter": "python",
   "pygments_lexer": "ipython2",
   "version": "2.7.6"
  }
 },
 "nbformat": 4,
 "nbformat_minor": 5
}
